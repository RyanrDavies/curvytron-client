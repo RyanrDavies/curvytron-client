{
 "cells": [
  {
   "cell_type": "markdown",
   "metadata": {},
   "source": [
    "# Getting Started with the Curvytron OpenAI environment"
   ]
  },
  {
   "cell_type": "markdown",
   "metadata": {},
   "source": [
    "# Installation"
   ]
  },
  {
   "cell_type": "markdown",
   "metadata": {},
   "source": [
    "Follow the instructions [here](https://hackmd.io/8VOQUHNgTAugEBBwtZ91Sg#Setup)"
   ]
  },
  {
   "cell_type": "markdown",
   "metadata": {},
   "source": [
    "# Setup"
   ]
  },
  {
   "cell_type": "markdown",
   "metadata": {},
   "source": [
    "Go and sit in the root directory!"
   ]
  },
  {
   "cell_type": "code",
   "execution_count": 1,
   "metadata": {},
   "outputs": [
    {
     "name": "stdout",
     "output_type": "stream",
     "text": [
      "/home/james/git/curvytron-client\n"
     ]
    }
   ],
   "source": [
    "%cd .."
   ]
  },
  {
   "cell_type": "code",
   "execution_count": 2,
   "metadata": {},
   "outputs": [],
   "source": [
    "import threading\n",
    "import curvytron\n",
    "import matplotlib.pyplot as plt\n",
    "from IPython.display import display, clear_output\n",
    "import numpy as np"
   ]
  },
  {
   "cell_type": "markdown",
   "metadata": {},
   "source": [
    "Start a curvytron server and point to its address. You have two options here:\n",
    "1. Use a server already set up e.g. curvytron.com (N.B. Permission to use this server was kindly granted by Curvytron developer [@Tom32i](https://twitter.com/Tom32i). **Please do not abuse the server by spamming it with requests!**)\n",
    "1. Setup and start your own server. The code is here: https://github.com/Curvytron/curvytron\n",
    "\n",
    "If you're inside the Edinburgh University network, I normally have an instance running at the Informatics Forum at the address below (you need to be on the network to see it - you may need to [VPN in](http://computing.help.inf.ed.ac.uk/openvpn))"
   ]
  },
  {
   "cell_type": "code",
   "execution_count": 3,
   "metadata": {},
   "outputs": [],
   "source": [
    "serveraddress = \"129.215.91.49:8080\""
   ]
  },
  {
   "cell_type": "markdown",
   "metadata": {},
   "source": [
    "# Example Use"
   ]
  },
  {
   "cell_type": "markdown",
   "metadata": {},
   "source": [
    "This instantiates a curvytron environment. A player called `name` will join a room called `room` on the specified server."
   ]
  },
  {
   "cell_type": "code",
   "execution_count": 4,
   "metadata": {},
   "outputs": [],
   "source": [
    "env = curvytron.CurvytronEnv(server=serveraddress, \n",
    "                             room='1337_test_room', \n",
    "                             name='pink_boi', \n",
    "                             color='#ff0090')"
   ]
  },
  {
   "cell_type": "markdown",
   "metadata": {},
   "source": [
    "The below runs a random policy and plots the state at each timepoint. Since the player moves randomly, you may need to run this a few times to see trails, though you should always see a dot moving around before the player hits the edge."
   ]
  },
  {
   "cell_type": "code",
   "execution_count": 5,
   "metadata": {},
   "outputs": [
    {
     "data": {
      "image/png": "[encoded data removed]",
      "text/plain": [
       "<Figure size 432x288 with 1 Axes>"
      ]
     },
     "metadata": {},
     "output_type": "display_data"
    },
    {
     "name": "stdout",
     "output_type": "stream",
     "text": [
      "Episode finished after 53 steps)\n",
      "Killing player (Returns None)\n"
     ]
    },
    {
     "data": {
      "text/plain": [
       "<Figure size 432x288 with 0 Axes>"
      ]
     },
     "metadata": {},
     "output_type": "display_data"
    }
   ],
   "source": [
    "env.reset()\n",
    "episode_over = False\n",
    "steps = 0\n",
    "while not episode_over:\n",
    "    steps += 1\n",
    "    action = np.random.choice(3)\n",
    "    ob, r, episode_over = env.step(action)\n",
    "    \n",
    "    ax = plt.imshow(ob.pixels)\n",
    "    clear_output(wait=True)\n",
    "    display(plt.gcf())\n",
    "    print('Angle={}, Position={}'.format(ob.angle, ob.position), end='\\r')\n",
    "#     plt.pause(0.01)\n",
    "plt.clf()\n",
    "print(\"Episode finished after {} steps\".format(steps))\n",
    "print(\"Killing player (Returns {})\".format(env.client.join()))"
   ]
  },
  {
   "cell_type": "markdown",
   "metadata": {},
   "source": [
    "# The State Space"
   ]
  },
  {
   "cell_type": "markdown",
   "metadata": {},
   "source": [
    "The valid actions are simply 0, 1, and 2, which are left, straight, and right respectively. The server will continue running the previously submitted action until a different action is given.\n",
    "\n",
    "Let's observe the state that is returned when we call env.step(action), in the code above we saved it in `ob`. It is a tuple with three elements:\n",
    "* angle - the angle clockwise from 3 o'clock, in radians, *not* modulo $2 \\pi$ i.e. it just sums up and can be negative\n",
    "* position - a matrix coordinate (x0, x1) describing the location of the head of your snake\n",
    "* pixels - a 200 x 200 x 3 matrix representing the pixels in colour"
   ]
  },
  {
   "cell_type": "code",
   "execution_count": 6,
   "metadata": {},
   "outputs": [
    {
     "data": {
      "text/plain": [
       "<curvytron.State at 0x7f9324895048>"
      ]
     },
     "execution_count": 6,
     "metadata": {},
     "output_type": "execute_result"
    }
   ],
   "source": [
    "ob"
   ]
  },
  {
   "cell_type": "code",
   "execution_count": 7,
   "metadata": {},
   "outputs": [
    {
     "data": {
      "text/plain": [
       "dict_keys(['angle', 'position', 'pixels'])"
      ]
     },
     "execution_count": 7,
     "metadata": {},
     "output_type": "execute_result"
    }
   ],
   "source": [
    "vars(ob).keys()"
   ]
  },
  {
   "cell_type": "code",
   "execution_count": 8,
   "metadata": {},
   "outputs": [
    {
     "name": "stdout",
     "output_type": "stream",
     "text": [
      "Attribute: curvytron.State.angle\n",
      "==========\n"
     ]
    },
    {
     "data": {
      "text/plain": [
       "float"
      ]
     },
     "metadata": {},
     "output_type": "display_data"
    },
    {
     "data": {
      "text/plain": [
       "3.66"
      ]
     },
     "metadata": {},
     "output_type": "display_data"
    },
    {
     "name": "stdout",
     "output_type": "stream",
     "text": [
      "\n",
      "\n",
      "Attribute: curvytron.State.position\n",
      "==========\n"
     ]
    },
    {
     "data": {
      "text/plain": [
       "tuple"
      ]
     },
     "metadata": {},
     "output_type": "display_data"
    },
    {
     "data": {
      "text/plain": [
       "(1.5, 51.4)"
      ]
     },
     "metadata": {},
     "output_type": "display_data"
    },
    {
     "name": "stdout",
     "output_type": "stream",
     "text": [
      "\n",
      "\n",
      "Attribute: curvytron.State.pixels\n",
      "==========\n"
     ]
    },
    {
     "data": {
      "text/plain": [
       "numpy.ndarray"
      ]
     },
     "metadata": {},
     "output_type": "display_data"
    },
    {
     "data": {
      "text/plain": [
       "array([[[34, 34, 34],\n",
       "        [34, 34, 34],\n",
       "        [34, 34, 34],\n",
       "        ...,\n",
       "        [34, 34, 34],\n",
       "        [34, 34, 34],\n",
       "        [34, 34, 34]],\n",
       "\n",
       "       [[34, 34, 34],\n",
       "        [34, 34, 34],\n",
       "        [34, 34, 34],\n",
       "        ...,\n",
       "        [34, 34, 34],\n",
       "        [34, 34, 34],\n",
       "        [34, 34, 34]],\n",
       "\n",
       "       [[34, 34, 34],\n",
       "        [34, 34, 34],\n",
       "        [34, 34, 34],\n",
       "        ...,\n",
       "        [34, 34, 34],\n",
       "        [34, 34, 34],\n",
       "        [34, 34, 34]],\n",
       "\n",
       "       ...,\n",
       "\n",
       "       [[34, 34, 34],\n",
       "        [34, 34, 34],\n",
       "        [34, 34, 34],\n",
       "        ...,\n",
       "        [34, 34, 34],\n",
       "        [34, 34, 34],\n",
       "        [34, 34, 34]],\n",
       "\n",
       "       [[34, 34, 34],\n",
       "        [34, 34, 34],\n",
       "        [34, 34, 34],\n",
       "        ...,\n",
       "        [34, 34, 34],\n",
       "        [34, 34, 34],\n",
       "        [34, 34, 34]],\n",
       "\n",
       "       [[34, 34, 34],\n",
       "        [34, 34, 34],\n",
       "        [34, 34, 34],\n",
       "        ...,\n",
       "        [34, 34, 34],\n",
       "        [34, 34, 34],\n",
       "        [34, 34, 34]]], dtype=uint8)"
      ]
     },
     "metadata": {},
     "output_type": "display_data"
    },
    {
     "name": "stdout",
     "output_type": "stream",
     "text": [
      "\n",
      "\n",
      "(200, 200, 3)\n"
     ]
    }
   ],
   "source": [
    "for kk in vars(ob):\n",
    "    print('Attribute: curvytron.State.{}\\n{}'.format(kk, 10*'='))\n",
    "    display(type(vars(ob)[kk]))\n",
    "    display(vars(ob)[kk])\n",
    "    print('\\n')\n",
    "print(ob.pixels.shape)"
   ]
  },
  {
   "cell_type": "markdown",
   "metadata": {},
   "source": [
    "# Starter Heuristic Agents"
   ]
  },
  {
   "cell_type": "markdown",
   "metadata": {},
   "source": [
    "You'll find some code to get you started creating some agents by hand here: https://github.com/RyanrDavies/curvytron-client/blob/master/heuristic_agent.py.\n",
    "\n",
    "All you need to extend the `Agent` class (found in `agent.py`) and implement the `action()` method, telling the agent how to behave with respect to the state it is passed in its `run()` method as the game plays. The code below imports some bots and executes each on a thread.\n",
    "\n",
    "Calling `agent.start()` on an instantiated class (inherited from Agent) will make the agent join its room, indicate that it's ready, and send actions to the server when it is in the game.\n",
    "\n",
    "**You can join their game and play against them!**"
   ]
  },
  {
   "cell_type": "code",
   "execution_count": 9,
   "metadata": {},
   "outputs": [],
   "source": [
    "from heuristic_agent import RandomAgent, HeuristicAgent1, HeuristicAgent2, RaymanAgent"
   ]
  },
  {
   "cell_type": "code",
   "execution_count": 10,
   "metadata": {},
   "outputs": [],
   "source": [
    "room_name = 'change_me'  # if you get errors running this cell, there may already be a game\n",
    "                         # in play with this name. Otherwise, check there are no threads running\n",
    "                         # in the background by restarting the notebook\n",
    "agents = [RandomAgent(server=serveraddress, room=room_name, name='RandomAgent_{}'.format(ii)) \n",
    "                for ii in range(2)]\n",
    "agents += [HeuristicAgent1(server=serveraddress, room=room_name, name='HeuristicAgent1_{}'.format(ii)) \n",
    "                for ii in range(2)]\n",
    "agents += [HeuristicAgent2(server=serveraddress, room=room_name, name='HeuristicAgent2_{}'.format(ii)) \n",
    "                for ii in range(2)]\n",
    "agents += [RaymanAgent(server=serveraddress, room=room_name, name='RaymanAgent_{}'.format(ii)) \n",
    "                for ii in range(2)]"
   ]
  },
  {
   "cell_type": "markdown",
   "metadata": {},
   "source": [
    "Go join the game yourself! **Tip**: If you just want to watch (and not play), join the room and click the x next to your player name."
   ]
  },
  {
   "cell_type": "code",
   "execution_count": 11,
   "metadata": {},
   "outputs": [],
   "source": [
    "threads = []\n",
    "for agent in agents:\n",
    "    t = threading.Thread(target=agent.start())\n",
    "    threads.append(t)\n",
    "    t.start()"
   ]
  },
  {
   "cell_type": "code",
   "execution_count": 12,
   "metadata": {},
   "outputs": [],
   "source": [
    "for agent in agents:\n",
    "    agent.env.client.join()  # kills the agent"
   ]
  },
  {
   "cell_type": "markdown",
   "metadata": {},
   "source": [
    "An example of gameplay:\n",
    "<!-- ![Heuristic Agents](https://i.imgur.com/YM0m0zw.gif) -->\n",
    "<img src=\"https://i.imgur.com/YM0m0zw.gif\" >"
   ]
  },
  {
   "cell_type": "markdown",
   "metadata": {},
   "source": [
    "## What now?"
   ]
  },
  {
   "cell_type": "markdown",
   "metadata": {},
   "source": [
    "We've made a script for you to write your agent and quickly run it against our baseline agents. You'll find the script at: https://github.com/RyanrDavies/curvytron-client/blob/master/template_agent.py. You can run this script from the command line.\n",
    "\n",
    "```\n",
    "python template_agent.py -h\n",
    "```\n",
    "\n",
    "Use the help flag for information about the script call. This is probably the best way to work as we are using threads. It's easy to have threads running in the background without your realising."
   ]
  },
  {
   "cell_type": "markdown",
   "metadata": {},
   "source": [
    "You can also run tests from here if you like. Go fill out the [template](https://github.com/RyanrDavies/curvytron-client/blob/master/template_agent.py), import it, and play against some of our basic agents (or yourself!)."
   ]
  },
  {
   "cell_type": "code",
   "execution_count": 13,
   "metadata": {},
   "outputs": [],
   "source": [
    "from template_agent import MyAgent "
   ]
  },
  {
   "cell_type": "code",
   "execution_count": 14,
   "metadata": {},
   "outputs": [
    {
     "name": "stderr",
     "output_type": "stream",
     "text": [
      "Exception in thread Thread-5:\n",
      "Traceback (most recent call last):\n",
      "  File \"/home/james/anaconda2/envs/rlhack2/lib/python3.6/threading.py\", line 916, in _bootstrap_inner\n",
      "    self.run()\n",
      "  File \"/home/james/git/curvytron-client/agent.py\", line 25, in run\n",
      "    state, reward, episode_over = self.env.step(action)\n",
      "  File \"/home/james/git/curvytron-client/curvytron.py\", line 65, in step\n",
      "    self.client.send_action(action)\n",
      "  File \"/home/james/git/curvytron-client/client.py\", line 222, in send_action\n",
      "    self._send_message(self.PLAYER_MOVE, {'action': action})\n",
      "  File \"/home/james/git/curvytron-client/client.py\", line 373, in _send_message\n",
      "    player_name=self.name, player_color=self.color, **message_args))\n",
      "  File \"/home/james/anaconda2/envs/rlhack2/lib/python3.6/site-packages/websocket/_core.py\", line 240, in send\n",
      "    return self.send_frame(frame)\n",
      "  File \"/home/james/anaconda2/envs/rlhack2/lib/python3.6/site-packages/websocket/_core.py\", line 265, in send_frame\n",
      "    l = self._send(data)\n",
      "  File \"/home/james/anaconda2/envs/rlhack2/lib/python3.6/site-packages/websocket/_core.py\", line 430, in _send\n",
      "    return send(self.sock, data)\n",
      "  File \"/home/james/anaconda2/envs/rlhack2/lib/python3.6/site-packages/websocket/_socket.py\", line 114, in send\n",
      "    raise WebSocketConnectionClosedException(\"socket is already closed.\")\n",
      "websocket._exceptions.WebSocketConnectionClosedException: socket is already closed.\n",
      "\n",
      "Exception in thread Thread-7:\n",
      "Traceback (most recent call last):\n",
      "  File \"/home/james/anaconda2/envs/rlhack2/lib/python3.6/threading.py\", line 916, in _bootstrap_inner\n",
      "    self.run()\n",
      "  File \"/home/james/git/curvytron-client/agent.py\", line 25, in run\n",
      "    state, reward, episode_over = self.env.step(action)\n",
      "  File \"/home/james/git/curvytron-client/curvytron.py\", line 65, in step\n",
      "    self.client.send_action(action)\n",
      "  File \"/home/james/git/curvytron-client/client.py\", line 222, in send_action\n",
      "    self._send_message(self.PLAYER_MOVE, {'action': action})\n",
      "  File \"/home/james/git/curvytron-client/client.py\", line 373, in _send_message\n",
      "    player_name=self.name, player_color=self.color, **message_args))\n",
      "  File \"/home/james/anaconda2/envs/rlhack2/lib/python3.6/site-packages/websocket/_core.py\", line 240, in send\n",
      "    return self.send_frame(frame)\n",
      "  File \"/home/james/anaconda2/envs/rlhack2/lib/python3.6/site-packages/websocket/_core.py\", line 265, in send_frame\n",
      "    l = self._send(data)\n",
      "  File \"/home/james/anaconda2/envs/rlhack2/lib/python3.6/site-packages/websocket/_core.py\", line 430, in _send\n",
      "    return send(self.sock, data)\n",
      "  File \"/home/james/anaconda2/envs/rlhack2/lib/python3.6/site-packages/websocket/_socket.py\", line 114, in send\n",
      "    raise WebSocketConnectionClosedException(\"socket is already closed.\")\n",
      "websocket._exceptions.WebSocketConnectionClosedException: socket is already closed.\n",
      "\n",
      "Exception in thread Thread-11:\n",
      "Traceback (most recent call last):\n",
      "  File \"/home/james/anaconda2/envs/rlhack2/lib/python3.6/threading.py\", line 916, in _bootstrap_inner\n",
      "    self.run()\n",
      "  File \"/home/james/git/curvytron-client/agent.py\", line 25, in run\n",
      "    state, reward, episode_over = self.env.step(action)\n",
      "  File \"/home/james/git/curvytron-client/curvytron.py\", line 65, in step\n",
      "    self.client.send_action(action)\n",
      "  File \"/home/james/git/curvytron-client/client.py\", line 222, in send_action\n",
      "    self._send_message(self.PLAYER_MOVE, {'action': action})\n",
      "  File \"/home/james/git/curvytron-client/client.py\", line 373, in _send_message\n",
      "    player_name=self.name, player_color=self.color, **message_args))\n",
      "  File \"/home/james/anaconda2/envs/rlhack2/lib/python3.6/site-packages/websocket/_core.py\", line 240, in send\n",
      "    return self.send_frame(frame)\n",
      "  File \"/home/james/anaconda2/envs/rlhack2/lib/python3.6/site-packages/websocket/_core.py\", line 265, in send_frame\n",
      "    l = self._send(data)\n",
      "  File \"/home/james/anaconda2/envs/rlhack2/lib/python3.6/site-packages/websocket/_core.py\", line 430, in _send\n",
      "    return send(self.sock, data)\n",
      "  File \"/home/james/anaconda2/envs/rlhack2/lib/python3.6/site-packages/websocket/_socket.py\", line 114, in send\n",
      "    raise WebSocketConnectionClosedException(\"socket is already closed.\")\n",
      "websocket._exceptions.WebSocketConnectionClosedException: socket is already closed.\n",
      "\n",
      "Exception in thread Thread-19:\n",
      "Traceback (most recent call last):\n",
      "  File \"/home/james/anaconda2/envs/rlhack2/lib/python3.6/threading.py\", line 916, in _bootstrap_inner\n",
      "    self.run()\n",
      "  File \"/home/james/git/curvytron-client/heuristic_agent.py\", line 211, in run\n",
      "    state, reward, episode_over = self.env.step(action)\n",
      "  File \"/home/james/git/curvytron-client/curvytron.py\", line 65, in step\n",
      "    self.client.send_action(action)\n",
      "  File \"/home/james/git/curvytron-client/client.py\", line 222, in send_action\n",
      "    self._send_message(self.PLAYER_MOVE, {'action': action})\n",
      "  File \"/home/james/git/curvytron-client/client.py\", line 373, in _send_message\n",
      "    player_name=self.name, player_color=self.color, **message_args))\n",
      "  File \"/home/james/anaconda2/envs/rlhack2/lib/python3.6/site-packages/websocket/_core.py\", line 240, in send\n",
      "    return self.send_frame(frame)\n",
      "  File \"/home/james/anaconda2/envs/rlhack2/lib/python3.6/site-packages/websocket/_core.py\", line 265, in send_frame\n",
      "    l = self._send(data)\n",
      "  File \"/home/james/anaconda2/envs/rlhack2/lib/python3.6/site-packages/websocket/_core.py\", line 430, in _send\n",
      "    return send(self.sock, data)\n",
      "  File \"/home/james/anaconda2/envs/rlhack2/lib/python3.6/site-packages/websocket/_socket.py\", line 114, in send\n",
      "    raise WebSocketConnectionClosedException(\"socket is already closed.\")\n",
      "websocket._exceptions.WebSocketConnectionClosedException: socket is already closed.\n",
      "\n",
      "Exception in thread Thread-17:\n",
      "Traceback (most recent call last):\n",
      "  File \"/home/james/anaconda2/envs/rlhack2/lib/python3.6/threading.py\", line 916, in _bootstrap_inner\n",
      "    self.run()\n",
      "  File \"/home/james/git/curvytron-client/heuristic_agent.py\", line 211, in run\n",
      "    state, reward, episode_over = self.env.step(action)\n",
      "  File \"/home/james/git/curvytron-client/curvytron.py\", line 65, in step\n",
      "    self.client.send_action(action)\n",
      "  File \"/home/james/git/curvytron-client/client.py\", line 222, in send_action\n",
      "    self._send_message(self.PLAYER_MOVE, {'action': action})\n",
      "  File \"/home/james/git/curvytron-client/client.py\", line 373, in _send_message\n",
      "    player_name=self.name, player_color=self.color, **message_args))\n",
      "  File \"/home/james/anaconda2/envs/rlhack2/lib/python3.6/site-packages/websocket/_core.py\", line 240, in send\n",
      "    return self.send_frame(frame)\n",
      "  File \"/home/james/anaconda2/envs/rlhack2/lib/python3.6/site-packages/websocket/_core.py\", line 265, in send_frame\n",
      "    l = self._send(data)\n",
      "  File \"/home/james/anaconda2/envs/rlhack2/lib/python3.6/site-packages/websocket/_core.py\", line 430, in _send\n",
      "    return send(self.sock, data)\n",
      "  File \"/home/james/anaconda2/envs/rlhack2/lib/python3.6/site-packages/websocket/_socket.py\", line 114, in send\n",
      "    raise WebSocketConnectionClosedException(\"socket is already closed.\")\n",
      "websocket._exceptions.WebSocketConnectionClosedException: socket is already closed.\n",
      "\n"
     ]
    }
   ],
   "source": [
    "room_name = 'blahblahblah'\n",
    "agents = [MyAgent(server=serveraddress, room=room_name, name='MyAgent_{}'.format(ii)) \n",
    "                for ii in range(2)]\n",
    "agents += [HeuristicAgent1(server=serveraddress, room=room_name, name='HeuristicAgent1_{}'.format(ii)) \n",
    "                for ii in range(2)]\n",
    "agents += [HeuristicAgent2(server=serveraddress, room=room_name, name='HeuristicAgent2_{}'.format(ii)) \n",
    "                for ii in range(2)]\n",
    "agents += [RaymanAgent(server=serveraddress, room=room_name, name='RaymanAgent_{}'.format(ii)) \n",
    "                for ii in range(2)]"
   ]
  },
  {
   "cell_type": "code",
   "execution_count": 15,
   "metadata": {},
   "outputs": [],
   "source": [
    "for agent in agents:\n",
    "    agent.env.client.join()  # kills the agent"
   ]
  },
  {
   "cell_type": "code",
   "execution_count": null,
   "metadata": {},
   "outputs": [],
   "source": []
  }
 ],
 "metadata": {
  "kernelspec": {
   "display_name": "Python 3",
   "language": "python",
   "name": "python3"
  },
  "language_info": {
   "codemirror_mode": {
    "name": "ipython",
    "version": 3
   },
   "file_extension": ".py",
   "mimetype": "text/x-python",
   "name": "python",
   "nbconvert_exporter": "python",
   "pygments_lexer": "ipython3",
   "version": "3.6.5"
  }
 },
 "nbformat": 4,
 "nbformat_minor": 2
}
